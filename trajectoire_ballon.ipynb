{
 "cells": [
  {
   "cell_type": "markdown",
   "metadata": {},
   "source": [
    "# Trajectoire d'un ballon de basket et son vecteur vitesse\n",
    "\n",
    "Cet exemple répond au programme de seconde en physique-chimie (capacités numériques):\n",
    "\n",
    "* représenter les positions successives d’un système modélisé par un point lors d’une évolution unidimensionnelle ou bidimensionnelle à l’aide d’un langage de programmation\n",
    "\n",
    "* représenter des vecteurs vitesse d’un système modélisé par un point lors d’un mouvement à l’aide d’un langage de programmation\n",
    "\n",
    "C'est une simulation de la trajectoire d'un ballon de basket, lancé par un joueur dans l'intention de le faire passer par le panier. Les calculs de la simulation ne sont pas à maîtriser. Mais un élève doit reconnaître et utiliser la méthode pour représenter les points de la trajectoire, ainsi que le vecteur vitesse du ballon à un point donné.\n",
    "\n",
    "Une version calculatrice se trouve ici :\n",
    "https://workshop.numworks.com/python/ludo1520/lancer_ballon\n",
    "\n",
    "\n",
    "Ludovic Gaudichet 2020,\n",
    "licence CC BY-NC-SA,\n",
    "lycée de Noisiel\n"
   ]
  },
  {
   "cell_type": "markdown",
   "metadata": {},
   "source": [
    "## Initialisation et paramètres modifiables du système :"
   ]
  },
  {
   "cell_type": "code",
   "execution_count": 1,
   "metadata": {},
   "outputs": [],
   "source": [
    "%matplotlib inline\n",
    "import matplotlib.pyplot as plt\n",
    "from math import *\n",
    "\n",
    "\n",
    "x0,z0   = 0.5, 1.8   # position initiale en m\n",
    "Vx0,Vz0 = 2.5, 4.0   # vitesse initiale en m/s\n",
    "Dt = 0.1             # DELTA t : durée entre chaque point (s)"
   ]
  },
  {
   "cell_type": "markdown",
   "metadata": {},
   "source": [
    "## création des listes avec les coordonnées des points de la trajectoire"
   ]
  },
  {
   "cell_type": "code",
   "execution_count": 2,
   "metadata": {},
   "outputs": [],
   "source": [
    "x,z = [],[]\n",
    "\n",
    "# Calcul et enregistrement dans les listes des points\n",
    "temps = 0\n",
    "\n",
    "for i in range (0,15):\n",
    "    temps += Dt # temps = temps + Dt\n",
    "    # équation de la trajectoire : à voir en terminale spé. physique\n",
    "    x.append( x0 + Vx0*temps )\n",
    "    z.append( z0 + Vz0*temps - 9.81*temps**2/2 )\n"
   ]
  },
  {
   "cell_type": "markdown",
   "metadata": {},
   "source": [
    "## création des listes avec les vitesses selon l'axe x et l'axe z"
   ]
  },
  {
   "cell_type": "code",
   "execution_count": 3,
   "metadata": {},
   "outputs": [
    {
     "name": "stdout",
     "output_type": "stream",
     "text": [
      "V0 = 3.5557435579636474 m.s-1\n",
      "V1 = 2.9401966345807553 m.s-1\n",
      "V2 = 2.563381019279031 m.s-1\n",
      "V3 = 2.5341290910291066 m.s-1\n",
      "V4 = 2.863113733332992 m.s-1\n",
      "V5 = 3.449311851659693 m.s-1\n",
      "V6 = 4.186025113398147 m.s-1\n",
      "V7 = 5.007252964450668 m.s-1\n",
      "V8 = 5.877676432911218 m.s-1\n",
      "V9 = 6.778370028996645 m.s-1\n",
      "V10 = 7.698716922318952 m.s-1\n",
      "V11 = 8.632433390997 m.s-1\n",
      "V12 = 9.575609236492497 m.s-1\n",
      "V13 = 10.52570188871033 m.s-1\n"
     ]
    }
   ],
   "source": [
    "Vx,Vz,normV = [],[],[]\n",
    "\n",
    "# Calcul / enregistrement / affichage de la vitesse du ballon\n",
    "for i in range (0,14):\n",
    "    Vx.append( (x[i+1]-x[i])/Dt ) # v = MM' / DELTA t\n",
    "    Vz.append( (z[i+1]-z[i])/Dt )\n",
    "    normV.append( sqrt(Vx[-1]**2 + Vz[-1]**2) )\n",
    "    print('V',i,' = ', normV[-1] , ' m.s-1', sep='')"
   ]
  },
  {
   "cell_type": "markdown",
   "metadata": {},
   "source": [
    "## On ajoute les différents éléments dans une fenêtre graphique"
   ]
  },
  {
   "cell_type": "code",
   "execution_count": 4,
   "metadata": {},
   "outputs": [
    {
     "data": {
      "image/png": "[encoded data removed]",
      "text/plain": [
       "<Figure size 504x504 with 1 Axes>"
      ]
     },
     "metadata": {
      "needs_background": "light"
     },
     "output_type": "display_data"
    }
   ],
   "source": [
    "plt.close()\n",
    "fig, ax = plt.subplots(figsize=(7,7))\n",
    "ax.set_aspect('equal')\n",
    "plt.axis([0,4,0,4])\n",
    "plt.xlabel('x (en m)')\n",
    "plt.ylabel('z (en m)')\n",
    "\n",
    "\n",
    "# On trace les points de la trajectoire du ballon\n",
    "plt.plot(x,z,'o--',color='black',ms=5,lw=0.2)\n",
    "\n",
    "# On trace quelques vecteurs vitesse avec la fonction suivante :\n",
    "def TraceVecteurVitesse(indice, couleur):\n",
    "    echel = 0.15\n",
    "    plt.arrow( x[indice], z[indice], Vx[indice]*echel, Vz[indice]*echel,\n",
    "        width=0.02,head_length=0.1,color=couleur)\n",
    "\n",
    "TraceVecteurVitesse(0,'violet')\n",
    "TraceVecteurVitesse(2,'blue')\n",
    "TraceVecteurVitesse(4,'green')\n",
    "TraceVecteurVitesse(6,'orange')\n",
    "TraceVecteurVitesse(8,'red')\n",
    "\n",
    "# On dessine un panier :\n",
    "xpanier = [3,    3.45, 3.45, 3,    3]\n",
    "zpanier = [3.05, 3.05, 3.10, 3.10, 3.05]\n",
    "plt.plot(xpanier, zpanier)\n",
    "\n",
    "\n",
    "plt.show()"
   ]
  },
  {
   "cell_type": "markdown",
   "metadata": {},
   "source": [
    "## Exercice\n",
    "\n",
    "Reprendre le code précédente pour :\n",
    "- faire en sorte que le ballon passe par le panier\n",
    "- Représenter le vecteur vitesse, seulement au point ou la vitesse est la plus petite"
   ]
  },
  {
   "cell_type": "code",
   "execution_count": null,
   "metadata": {},
   "outputs": [],
   "source": []
  },
  {
   "cell_type": "code",
   "execution_count": null,
   "metadata": {},
   "outputs": [],
   "source": []
  },
  {
   "cell_type": "code",
   "execution_count": null,
   "metadata": {},
   "outputs": [],
   "source": []
  },
  {
   "cell_type": "code",
   "execution_count": null,
   "metadata": {},
   "outputs": [],
   "source": []
  },
  {
   "cell_type": "code",
   "execution_count": null,
   "metadata": {},
   "outputs": [],
   "source": []
  },
  {
   "cell_type": "code",
   "execution_count": null,
   "metadata": {},
   "outputs": [],
   "source": []
  },
  {
   "cell_type": "code",
   "execution_count": null,
   "metadata": {},
   "outputs": [],
   "source": []
  },
  {
   "cell_type": "code",
   "execution_count": null,
   "metadata": {},
   "outputs": [],
   "source": []
  },
  {
   "cell_type": "code",
   "execution_count": null,
   "metadata": {},
   "outputs": [],
   "source": []
  },
  {
   "cell_type": "code",
   "execution_count": null,
   "metadata": {},
   "outputs": [],
   "source": []
  }
 ],
 "metadata": {
  "kernelspec": {
   "display_name": "Python 3",
   "language": "python",
   "name": "python3"
  },
  "language_info": {
   "codemirror_mode": {
    "name": "ipython",
    "version": 3
   },
   "file_extension": ".py",
   "mimetype": "text/x-python",
   "name": "python",
   "nbconvert_exporter": "python",
   "pygments_lexer": "ipython3",
   "version": "3.8.3"
  }
 },
 "nbformat": 4,
 "nbformat_minor": 4
}
