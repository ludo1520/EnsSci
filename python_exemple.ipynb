{
 "cells": [
  {
   "cell_type": "markdown",
   "metadata": {},
   "source": [
    "# Python par l'exemple"
   ]
  },
  {
   "cell_type": "markdown",
   "metadata": {},
   "source": [
    "Exemple de programme qui montre des bases de programmation python, utiles à l'analyse scientifique.\n",
    "\n",
    "Vous pouvez utiliser les icônes Copier / Coller pour ré-utiliser une partie de code pour un exercice.\n",
    "L'icone >> permet de re-exécuter toutes les lignes du début jusqu'à la fin, ce qui peut être utile lorsqu'on a modifié l'ordre des lignes d'éxécution.\n",
    "\n",
    "Ludovic Gaudichet\n",
    "2020, Lycée René Cassin Noisiel,\n",
    "licence CC BY-NC-SA\n"
   ]
  },
  {
   "cell_type": "code",
   "execution_count": 1,
   "metadata": {},
   "outputs": [],
   "source": [
    "import math\n",
    "import matplotlib.pyplot as plt"
   ]
  },
  {
   "cell_type": "markdown",
   "metadata": {},
   "source": [
    "### Déclaration d'une variable, suivie d'un commentaire explicite :"
   ]
  },
  {
   "cell_type": "code",
   "execution_count": 2,
   "metadata": {},
   "outputs": [],
   "source": [
    "P0 = 1013 # (hPa) pression atmosphérique au niveau de la mer\n",
    "altitude = 800 # (m) une altitude exemple"
   ]
  },
  {
   "cell_type": "markdown",
   "metadata": {
    "raw_mimetype": "text/html"
   },
   "source": [
    "### Calcul mathématique :\n",
    "\n",
    "La pression atmosphérique est censée diminuer exponentiellement avec l'altitude, étant divisée par 2 tous les 5500 m (probablement très empirique).\n",
    "\n",
    "Cela se traduit par le calcul suivant :"
   ]
  },
  {
   "cell_type": "code",
   "execution_count": 3,
   "metadata": {},
   "outputs": [],
   "source": [
    "Const = -math.log(2)/5500\n",
    "pression = P0*math.exp(Const*altitude)"
   ]
  },
  {
   "cell_type": "markdown",
   "metadata": {},
   "source": [
    "### Affichage d'un texte, d'un résultat de calcul :"
   ]
  },
  {
   "cell_type": "code",
   "execution_count": 4,
   "metadata": {},
   "outputs": [
    {
     "name": "stdout",
     "output_type": "stream",
     "text": [
      "Altitude = 800 m, pression = 915.847710708493 hPa\n"
     ]
    }
   ],
   "source": [
    "print(\"Altitude =\",altitude, \"m, pression =\", pression,\"hPa\")"
   ]
  },
  {
   "cell_type": "markdown",
   "metadata": {},
   "source": [
    "### EXERCICE :\n",
    "Modifier et re-éxecuter les lignes précédentes (entrées) pour afficher la pression à 4810 m d'altitude."
   ]
  },
  {
   "cell_type": "markdown",
   "metadata": {},
   "source": [
    "### Structure conditionnelle (faire quelque chose si ... sinon ...)  :\n",
    "\n",
    "\n",
    "Le calcul précédent ne marche que dans l'atmosphère. Il ne marche donc pas pour des altitudes négatives (dans l'eau). On peut donc ajouter une condition pour le faire ou non :"
   ]
  },
  {
   "cell_type": "code",
   "execution_count": 5,
   "metadata": {},
   "outputs": [
    {
     "name": "stdout",
     "output_type": "stream",
     "text": [
      "ALTITUDE= -500000 , PRESSION =  915.847710708493\n"
     ]
    }
   ],
   "source": [
    "altitude = -500000 #(m)\n",
    "\n",
    "if (altitude>0):\n",
    "\n",
    "    pression = P0*math.exp(Const*altitude)\n",
    "\n",
    "print(\"ALTITUDE=\", altitude,\", PRESSION = \", pression)"
   ]
  },
  {
   "cell_type": "markdown",
   "metadata": {},
   "source": [
    "### Indentation :\n",
    "Les lignes de code doivent être indentées de la même manière (espaces aux début de la ligne) pour être dans la même structure (ici, sous la même condition 'if (altitude>0):').\n",
    "\n",
    "### EXERCICE :\n",
    "Dans le code précédent, la ligne print ne devrait pas être exécuter car elle écrit quelque chose de faux.\n",
    "\n",
    "-> Indenter la ligne print précédente pour que le texte en lettres capitales ne soit affiché que si l'altitude est positive, et donc ne s'affiche pas si l'altitude est négative."
   ]
  },
  {
   "cell_type": "markdown",
   "metadata": {},
   "source": [
    "### Option des branchements conditionnels\n",
    "On peut utiliser le 'elif' et le 'else' pour faire les bons calculs dans les\n",
    "différents cas :"
   ]
  },
  {
   "cell_type": "code",
   "execution_count": 6,
   "metadata": {},
   "outputs": [
    {
     "name": "stdout",
     "output_type": "stream",
     "text": [
      "Rq : Une profondeur de -500000 m n'existe pas sur Terre !\n"
     ]
    }
   ],
   "source": [
    "if (altitude>0):\n",
    "    pression = P0*math.exp(Const*altitude)\n",
    "\n",
    "elif (altitude<0) and (altitude>-10971):\n",
    "    print(\"Rq : altitude < 0 : dans l'eau ...\")\n",
    "    # Dans l'eau, on peut utiliser le principe fondamentale de\n",
    "    # l'hydrostatique pour calculer la pression : pression = P0 - rho.g.altitude\n",
    "    pression = P0 - 1025*9.81*altitude/100 # calcul en hPa\n",
    "\n",
    "else:\n",
    "    print(\"Rq : Une profondeur de\",altitude, \"m n'existe pas sur Terre !\")\n",
    "    pression = P0 - 1025*9.81*altitude/100 # calcul en hPa"
   ]
  },
  {
   "cell_type": "code",
   "execution_count": 7,
   "metadata": {},
   "outputs": [
    {
     "name": "stdout",
     "output_type": "stream",
     "text": [
      "Altitude = -500000 m , pression = 50277263.0 hPa\n"
     ]
    }
   ],
   "source": [
    "print(\"Altitude =\",altitude, \"m , pression =\", pression,\"hPa\")"
   ]
  },
  {
   "cell_type": "markdown",
   "metadata": {},
   "source": [
    "### Définition d'une fonction\n",
    "\n",
    "Une fonction permet d'appeler à volonté un sous-programme faisant un traitement : ici la fonction calcule la pression si on lui donne l'altitude en entrée."
   ]
  },
  {
   "cell_type": "code",
   "execution_count": 8,
   "metadata": {},
   "outputs": [],
   "source": [
    "def Pression(alt):\n",
    "\n",
    "    if (alt>0):\n",
    "        pres = P0*math.exp(Const*alt)\n",
    "    else:\n",
    "        pres = P0 - 1025*9.81*alt/100 # calcul en hPa\n",
    "    return (pres)"
   ]
  },
  {
   "cell_type": "code",
   "execution_count": 9,
   "metadata": {
    "scrolled": true
   },
   "outputs": [
    {
     "name": "stdout",
     "output_type": "stream",
     "text": [
      "La pression à une altitude de -100 m est de 11068.25 hPa\n"
     ]
    }
   ],
   "source": [
    "altitude = -100 # (m)\n",
    "print(\"La pression à une altitude de\", altitude, \"m est de\",\n",
    "    Pression(altitude),\"hPa\")"
   ]
  },
  {
   "cell_type": "markdown",
   "metadata": {},
   "source": [
    "### Les boucles for \n",
    "\n",
    "A utiliser lorsque l'on connait le nombre d'itérations :\n",
    "\n",
    "La structure dans la boucle suivante va s'éxécuter avec i = 0, 1, 2, 3 et 4 (donc 5 fois) :"
   ]
  },
  {
   "cell_type": "code",
   "execution_count": 10,
   "metadata": {},
   "outputs": [
    {
     "name": "stdout",
     "output_type": "stream",
     "text": [
      "i = 0 , altitude = -90 m, pression = 10062.725 hPa\n",
      "i = 1 , altitude = -80 m, pression = 9057.2 hPa\n",
      "i = 2 , altitude = -70 m, pression = 8051.675 hPa\n",
      "i = 3 , altitude = -60 m, pression = 7046.15 hPa\n",
      "i = 4 , altitude = -50 m, pression = 6040.625 hPa\n"
     ]
    }
   ],
   "source": [
    "for i in range(0,5):\n",
    "\n",
    "    altitude = -90+i*10;\n",
    "    print(\"i =\", i, \", altitude =\", altitude, \"m, pression =\",\n",
    "        Pression(altitude),\"hPa\" )"
   ]
  },
  {
   "cell_type": "markdown",
   "metadata": {},
   "source": [
    "### EXERCICE :\n",
    "\n",
    "Ecrire dans la case suivante une autre boucle sur ce modèle, pour afficher les pressions à des profondeurs de -40m , -30 m, -20 m -10 m et 0 m."
   ]
  },
  {
   "cell_type": "code",
   "execution_count": null,
   "metadata": {},
   "outputs": [],
   "source": []
  },
  {
   "cell_type": "markdown",
   "metadata": {},
   "source": [
    "### les listes :\n",
    "Ce sont des tableaux. Elles seront indispensables, notamment pour stocker et traiter des valeurs successives d'une même grandeur.\n",
    "On pourra très souvent se limiter à une liste à une seule dimension, dans ce cas la liste est équivalente à une seule colonne ou ligne t'un tableur."
   ]
  },
  {
   "cell_type": "code",
   "execution_count": 11,
   "metadata": {},
   "outputs": [],
   "source": [
    "listX = [50,1000,2000,3000,4000,5000,6000,7000,8000,9000] # altitude en m"
   ]
  },
  {
   "cell_type": "code",
   "execution_count": 12,
   "metadata": {},
   "outputs": [
    {
     "name": "stdout",
     "output_type": "stream",
     "text": [
      "La première valeur de la liste est 50 et la dernière est 9000\n"
     ]
    }
   ],
   "source": [
    "print(\"La première valeur de la liste est\",listX[0],\n",
    "    \"et la dernière est\",listX[9])"
   ]
  },
  {
   "cell_type": "markdown",
   "metadata": {},
   "source": [
    "### EXERCICE :\n",
    "Faire afficher la valeur list1[10] et regarder le message d'erreur"
   ]
  },
  {
   "cell_type": "code",
   "execution_count": null,
   "metadata": {},
   "outputs": [],
   "source": []
  },
  {
   "cell_type": "markdown",
   "metadata": {},
   "source": [
    "### Remarques :\n",
    "Les valeurs dans les listes sont référencées par des indices entre crochets.\n",
    "Attention : la première valeur est référencée avec l'indice 0 !\n",
    "\n",
    "Une liste peut aussi est remplie au fur et à mesure d'un traitement :"
   ]
  },
  {
   "cell_type": "code",
   "execution_count": 13,
   "metadata": {},
   "outputs": [],
   "source": [
    "listY = [] # juste une déclaration, la liste est vide pour l'instant"
   ]
  },
  {
   "cell_type": "code",
   "execution_count": 14,
   "metadata": {},
   "outputs": [],
   "source": [
    "for i in range(0,10):\n",
    "    listY.append( Pression(listX[i]) )"
   ]
  },
  {
   "cell_type": "code",
   "execution_count": 15,
   "metadata": {},
   "outputs": [
    {
     "name": "stdout",
     "output_type": "stream",
     "text": [
      "listY est remplie avec les pressions aux altitudes définies dans la première liste : [1006.6368139490561, 893.0519413109695, 787.3067817169706, 694.0827737607426, 611.8973035908525, 539.4433118013411, 475.56850625015426, 419.25703626165665, 369.6133367638262, 325.84788542088864]\n"
     ]
    }
   ],
   "source": [
    "print(\"listY est remplie avec les pressions aux altitudes définies dans la\",\n",
    "    \"première liste :\", listY)"
   ]
  },
  {
   "cell_type": "markdown",
   "metadata": {},
   "source": [
    "### liste et graphique\n",
    "Les données doivent justement être dans des listes pour obtenir des graphiques, grâce à la librairie matplotlib.\n",
    "Dans cet exemple, on va tracer la pression en fonction de l'altitude :"
   ]
  },
  {
   "cell_type": "code",
   "execution_count": 16,
   "metadata": {
    "scrolled": true
   },
   "outputs": [
    {
     "data": {
      "image/png": "[encoded data removed]",
      "text/plain": [
       "<Figure size 432x288 with 1 Axes>"
      ]
     },
     "metadata": {
      "needs_background": "light"
     },
     "output_type": "display_data"
    }
   ],
   "source": [
    "plt.close()\n",
    "#plt.clf()\n",
    "plt.grid(True)\n",
    "plt.xlabel('altitude (m)')\n",
    "plt.ylabel('pression (hPa)')\n",
    "plt.title(\"Pression atmosphérique en fonction de l'altitude\")\n",
    "\n",
    "plt.plot(listX,listY,'o--',label = 'décroissance exponentielle pour altitude positive', color='blue')\n",
    "\n",
    "plt.legend()\n",
    "plt.show()"
   ]
  },
  {
   "cell_type": "markdown",
   "metadata": {},
   "source": [
    "### EXERCICE :\n",
    "Créer des listes listX2 et listY2 contenant 15 valeurs, et avec notamment des valeurs d'altitudes négatives (listX2).\n",
    "Afficher le graphique correspondant."
   ]
  },
  {
   "cell_type": "code",
   "execution_count": null,
   "metadata": {},
   "outputs": [],
   "source": []
  },
  {
   "cell_type": "code",
   "execution_count": null,
   "metadata": {},
   "outputs": [],
   "source": []
  },
  {
   "cell_type": "code",
   "execution_count": null,
   "metadata": {},
   "outputs": [],
   "source": []
  },
  {
   "cell_type": "code",
   "execution_count": null,
   "metadata": {},
   "outputs": [],
   "source": []
  },
  {
   "cell_type": "code",
   "execution_count": null,
   "metadata": {},
   "outputs": [],
   "source": []
  },
  {
   "cell_type": "code",
   "execution_count": null,
   "metadata": {},
   "outputs": [],
   "source": []
  },
  {
   "cell_type": "code",
   "execution_count": null,
   "metadata": {},
   "outputs": [],
   "source": []
  },
  {
   "cell_type": "code",
   "execution_count": null,
   "metadata": {},
   "outputs": [],
   "source": []
  },
  {
   "cell_type": "code",
   "execution_count": null,
   "metadata": {},
   "outputs": [],
   "source": []
  },
  {
   "cell_type": "code",
   "execution_count": null,
   "metadata": {},
   "outputs": [],
   "source": []
  },
  {
   "cell_type": "code",
   "execution_count": null,
   "metadata": {},
   "outputs": [],
   "source": []
  }
 ],
 "metadata": {
  "celltoolbar": "Format de la Cellule Texte Brut",
  "kernelspec": {
   "display_name": "Python 3",
   "language": "python",
   "name": "python3"
  },
  "language_info": {
   "codemirror_mode": {
    "name": "ipython",
    "version": 3
   },
   "file_extension": ".py",
   "mimetype": "text/x-python",
   "name": "python",
   "nbconvert_exporter": "python",
   "pygments_lexer": "ipython3",
   "version": "3.8.3"
  }
 },
 "nbformat": 4,
 "nbformat_minor": 2
}
